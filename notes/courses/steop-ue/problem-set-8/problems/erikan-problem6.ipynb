{
 "cells": [
  {
   "cell_type": "markdown",
   "id": "67bac602-d872-4ed1-aeae-fbe1d1e303c8",
   "metadata": {},
   "source": [
    "### Importing packages"
   ]
  },
  {
   "cell_type": "code",
   "execution_count": 1,
   "id": "ba8569a2-9b15-4ed4-823a-d0e2e547bf5f",
   "metadata": {},
   "outputs": [
    {
     "name": "stderr",
     "output_type": "stream",
     "text": [
      "\u001b[32m\u001b[1m  Activating\u001b[22m\u001b[39m project at `~`\n",
      "\u001b[32m\u001b[1m   Resolving\u001b[22m\u001b[39m package versions...\n",
      "\u001b[32m\u001b[1m  No Changes\u001b[22m\u001b[39m to `~/Project.toml`\n",
      "\u001b[32m\u001b[1m  No Changes\u001b[22m\u001b[39m to `~/Manifest.toml`\n"
     ]
    }
   ],
   "source": [
    "import Pkg;\n",
    "Pkg.activate(\".\")\n",
    "Pkg.add(\"Combinatorics\")"
   ]
  },
  {
   "cell_type": "markdown",
   "id": "d7dfd4ce-3e81-4c40-9c97-7f4077d063cb",
   "metadata": {},
   "source": [
    "### Task:\n",
    "<p>\n",
    "Given a list of numbers 1, ..., n, we want to find all possible permutations such that none of the numbers occupies its original place. Lets call them /interesting/. For example, for n = 3, we have thow interesting permutations: 312 and 231.\n",
    "\n",
    "1. Find the number of interesting permutations for n = 4,5,6,7,8.\n",
    "2. Study how the ratio of the total number of permutations to the number of interesting permutations behaves.\n",
    "</p>\n"
   ]
  },
  {
   "cell_type": "code",
   "execution_count": 4,
   "id": "f69bd9c9-cc2d-4b49-aadb-c5eb2bf323c9",
   "metadata": {},
   "outputs": [
    {
     "name": "stdout",
     "output_type": "stream",
     "text": [
      "n = 3, derangements = 2\n",
      "n = 4, derangements = 9\n",
      "n = 5, derangements = 44\n",
      "n = 6, derangements = 265\n",
      "n = 7, derangements = 1854\n",
      "n = 8, derangements = 14833\n"
     ]
    }
   ],
   "source": [
    "using Combinatorics\n",
    "\n",
    "check_index(arr) = all(i -> arr[i] != i, 1:length(arr))\n",
    "\n",
    "find_numbers(n) = begin\n",
    "    counter = 0\n",
    "    for perm in permutations(1:n)\n",
    "        if check_index(perm)\n",
    "            counter += 1\n",
    "#             println(perm)\n",
    "        end\n",
    "    end\n",
    "    return counter\n",
    "end\n",
    "\n",
    "for n in 3:8\n",
    "    println(\"n = $n, derangements = \", find_numbers(n))\n",
    "end"
   ]
  }
 ],
 "metadata": {
  "kernelspec": {
   "display_name": "Julia 1.7.2",
   "language": "julia",
   "name": "julia-1.7"
  },
  "language_info": {
   "file_extension": ".jl",
   "mimetype": "application/julia",
   "name": "julia",
   "version": "1.7.2"
  }
 },
 "nbformat": 4,
 "nbformat_minor": 5
}
