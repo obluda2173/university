{
 "cells": [
  {
   "cell_type": "markdown",
   "id": "c229c40b-0fd8-4e1e-80e8-e1ef9de6bef1",
   "metadata": {},
   "source": [
    "### Task\n",
    "<p>\n",
    "How many numbers between 1111111 and 9999999 are divisible by 3 or 5 but not 11?\n",
    "</p>"
   ]
  },
  {
   "cell_type": "markdown",
   "id": "55a9dbdb-2368-4561-9d36-5cee6ae4e133",
   "metadata": {},
   "source": [
    "##### Solution 1"
   ]
  },
  {
   "cell_type": "code",
   "execution_count": 4,
   "id": "a28f5e33-6a8c-4c6f-8c11-56c7d17d42d7",
   "metadata": {},
   "outputs": [
    {
     "name": "stdout",
     "output_type": "stream",
     "text": [
      "number of found numbers: 538720\n"
     ]
    }
   ],
   "source": [
    "function count_numbers()\n",
    "  function statement(n::Int)\n",
    "      if (n % 3 == 0) && (n % 5 == 0) && (n % 11 != 0)\n",
    "          return true\n",
    "      end\n",
    "      return false\n",
    "  end\n",
    "\n",
    "  counter = 0\n",
    "  i = 1111111\n",
    "  while i <= 9999999\n",
    "      if statement(i)\n",
    "          counter += 1\n",
    "      end\n",
    "      i += 1\n",
    "  end\n",
    "\n",
    "  println(\"number of found numbers: \", counter)\n",
    "end\n",
    "\n",
    "count_numbers()"
   ]
  },
  {
   "cell_type": "markdown",
   "id": "6ceb5bf9-d49d-412b-8cee-989ae40f6552",
   "metadata": {},
   "source": [
    "##### Solution 2"
   ]
  },
  {
   "cell_type": "code",
   "execution_count": 7,
   "id": "cf0fa025-6a65-49d4-9628-e2cc09273731",
   "metadata": {},
   "outputs": [
    {
     "name": "stdout",
     "output_type": "stream",
     "text": [
      "number of found numbers: 538720\n"
     ]
    }
   ],
   "source": [
    "println(\"number of found numbers: \", count(n -> (n % 3 == 0) && (n % 5 == 0) && (n % 11 != 0), 1111111:9999999))"
   ]
  }
 ],
 "metadata": {
  "kernelspec": {
   "display_name": "Julia 1.7.2",
   "language": "julia",
   "name": "julia-1.7"
  },
  "language_info": {
   "file_extension": ".jl",
   "mimetype": "application/julia",
   "name": "julia",
   "version": "1.7.2"
  }
 },
 "nbformat": 4,
 "nbformat_minor": 5
}
