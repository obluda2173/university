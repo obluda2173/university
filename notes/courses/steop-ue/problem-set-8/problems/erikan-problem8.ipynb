{
 "cells": [
  {
   "cell_type": "markdown",
   "id": "93803883-1203-43e7-8418-072a620c9f02",
   "metadata": {},
   "source": [
    "### Task:\n",
    "<p>\n",
    "Let us call a natural number charismatic if the sum of its digits is a perfect square. Find the sum of all charismatic numbers between 111111 and 999999.\n",
    "</p>"
   ]
  },
  {
   "cell_type": "markdown",
   "id": "53805702-6a4e-402f-aeca-a75300635b3e",
   "metadata": {},
   "source": [
    "##### Solution 1"
   ]
  },
  {
   "cell_type": "code",
   "execution_count": 7,
   "id": "4a9d6529-4559-4bdd-b599-03894c18c1d1",
   "metadata": {},
   "outputs": [
    {
     "name": "stdout",
     "output_type": "stream",
     "text": [
      "sum of all rizz numbers: 47061011005\n"
     ]
    }
   ],
   "source": [
    "find_sum() = begin\n",
    "  statement(n) = begin\n",
    "      sum_of_digits = sum(map(x -> parse(Int, x), collect(string(n))))\n",
    "      sqrt_sum = sqrt(sum_of_digits)\n",
    "      return sqrt_sum == floor(sqrt_sum)\n",
    "  end\n",
    "\n",
    "  i = 111111\n",
    "  sum_char = 0\n",
    "  while i <= 999999\n",
    "      if statement(i)\n",
    "          sum_char += i\n",
    "      end\n",
    "      i += 1\n",
    "  end\n",
    "\n",
    "  println(\"sum of all rizz numbers: \", sum_char)\n",
    "end\n",
    "\n",
    "find_sum()"
   ]
  },
  {
   "cell_type": "markdown",
   "id": "18d97ad7-16e5-444a-9e85-0e8b4b3fb508",
   "metadata": {},
   "source": [
    "##### Solution 2"
   ]
  },
  {
   "cell_type": "code",
   "execution_count": 6,
   "id": "c66e8065-2659-435d-b338-189df397e137",
   "metadata": {},
   "outputs": [
    {
     "name": "stdout",
     "output_type": "stream",
     "text": [
      "sum of all rizz numbers: 47061011005\n"
     ]
    }
   ],
   "source": [
    "is_charismatic(n) = begin\n",
    "  s = sum(parse.(Int, collect(string(n))))\n",
    "  sqrt(s) == floor(sqrt(s))\n",
    "end\n",
    "\n",
    "find_sum() = begin\n",
    "  total = sum(i for i in 111111:999999 if is_charismatic(i))\n",
    "  println(\"sum of all rizz numbers: \", total)\n",
    "end\n",
    "\n",
    "find_sum()"
   ]
  }
 ],
 "metadata": {
  "kernelspec": {
   "display_name": "Julia 1.7.2",
   "language": "julia",
   "name": "julia-1.7"
  },
  "language_info": {
   "file_extension": ".jl",
   "mimetype": "application/julia",
   "name": "julia",
   "version": "1.7.2"
  }
 },
 "nbformat": 4,
 "nbformat_minor": 5
}
