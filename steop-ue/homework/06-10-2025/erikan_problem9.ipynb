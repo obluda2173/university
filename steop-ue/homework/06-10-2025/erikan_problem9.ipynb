{
 "cells": [
  {
   "cell_type": "code",
   "execution_count": null,
   "id": "33870e01",
   "metadata": {
    "vscode": {
     "languageId": "julia"
    }
   },
   "outputs": [],
   "source": [
    "using TruthTables\n",
    "@truthtable P || Q && (P --> R) --> (P --> ((Q && P) || R))"
   ]
  }
 ],
 "metadata": {
  "language_info": {
   "name": "python"
  }
 },
 "nbformat": 4,
 "nbformat_minor": 5
}
