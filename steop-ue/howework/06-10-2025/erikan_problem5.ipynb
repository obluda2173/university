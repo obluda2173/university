{
 "cells": [
  {
   "cell_type": "code",
   "execution_count": null,
   "id": "860adb86",
   "metadata": {
    "vscode": {
     "languageId": "julia"
    }
   },
   "outputs": [],
   "source": [
    "s1(K,H) = K || H\n",
    "s2(R,V) = xor(R,V)\n",
    "s3(A,R) = !A || R\n",
    "s4(K,V) = K == V\n",
    "s5(H,A,K) = !H || (A && K)\n",
    "\n",
    "function validation(chat_list::Vector{Bool})\n",
    "    K = chat_list[1]\n",
    "    H = chat_list[2]\n",
    "    R = chat_list[3]\n",
    "    V = chat_list[4]\n",
    "    A = chat_list[5]\n",
    "\n",
    "    if s1(K, H) && s2(R, V) && s3(A, R) && s4(K, V) && s5(H, A, K)\n",
    "        return true\n",
    "    end\n",
    "\n",
    "    return false\n",
    "end\n",
    "\n",
    "function get_chats()\n",
    "    n = 5\n",
    "    result = Vector{Vector{Bool}}()\n",
    "\n",
    "    for mask in 0:(1 << n) - 1\n",
    "        combination = Vector{Bool}()\n",
    "\n",
    "        for j in 1:n\n",
    "            if ((mask >> (j - 1)) & 1) == 1\n",
    "                push!(combination, true)\n",
    "            else\n",
    "                push!(combination, false)\n",
    "            end\n",
    "        end\n",
    "        if validation(combination)\n",
    "            push!(result, combination)\n",
    "        end\n",
    "    end\n",
    "    return result\n",
    "end\n",
    "\n",
    "get_chats()\n"
   ]
  }
 ],
 "metadata": {
  "language_info": {
   "name": "python"
  }
 },
 "nbformat": 4,
 "nbformat_minor": 5
}
